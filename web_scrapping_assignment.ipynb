{
  "cells": [
    {
      "cell_type": "markdown",
      "metadata": {
        "id": "h6kolf6GXTiH"
      },
      "source": [
        "# Scrapping [Quotes to Scrape](http://quotes.toscrape.com) using Python and BeautifulSoup"
      ]
    },
    {
      "cell_type": "markdown",
      "metadata": {
        "id": "n28dtU0FXTiK"
      },
      "source": [
        "![](https://i.imgur.com/3on9fB7.png)"
      ]
    },
    {
      "cell_type": "markdown",
      "metadata": {
        "id": "7MWzBaafXTiL"
      },
      "source": [
        "## Web Scraping\n",
        "This is the process of collecting and parsing raw data from the a website and storing it in a database. For this project the data will be saved in a csv file."
      ]
    },
    {
      "cell_type": "markdown",
      "metadata": {
        "id": "f6EW3c98XTiL"
      },
      "source": [
        "## Quotes toScrape.com\n",
        "A website containing pages of quotes from some of the most influential people in human histroy. As the name suggests the website is designed in way that it's easy for information to be scraped from it. So, like many beginners before me I am using quotes.toscrape.com website as a testing ground to sharpen my web scrapping skills. My target is to scrape the text, the author, the url to the author and the tags assigned per quote"
      ]
    },
    {
      "cell_type": "markdown",
      "metadata": {
        "id": "8nv32avjXTiN"
      },
      "source": [
        "## Task\n",
        "To create a function that scrapes data from 'quotes.toscrape.com' website\n",
        "### Objectives\n",
        "- To scrape quotes from each desired page on the website.\n",
        "- To scrape the text from each quote per page.\n",
        "- To scrape the author's name from each quote per page.\n",
        "- To scrape the the tags from each quote per page.\n",
        "- To scrape the author's url and quotes's tags' url from each quote per page."
      ]
    },
    {
      "cell_type": "markdown",
      "metadata": {
        "id": "u7yaskIiXTiN"
      },
      "source": [
        "## Outline of the project\n",
        "1. Understanding the structure of Quotes to Scrape Website\n",
        "2. Installing and Importing required libraries\n",
        "3. Simulating the page and extracting the tags of different elements from website using BeautifulSoup\n",
        "4. Using the tags I will access different elements of the website and extract the required text.\n",
        "5. Storing the extracted data into the quote dictionary.\n",
        "6. Using pandas I will create a quote dataframe from which a csv file will be created."
      ]
    },
    {
      "cell_type": "markdown",
      "metadata": {
        "id": "aJcixUZFXTiO"
      },
      "source": [
        "[Quotes to Scrape Website](http://quotes.toscrape.com)\n",
        "* Quotes to Scrape Website (Code)\n",
        "- ![](https://i.imgur.com/Q8MfFh5.jpg)\n",
        "- The desired end-product of this scraping project:\n",
        "![](https://i.imgur.com/7VJQ44U.jpg)"
      ]
    },
    {
      "cell_type": "markdown",
      "metadata": {
        "id": "ngx-MmM8XTiO"
      },
      "source": [
        "## Examing the website in python with a Python Library - BeautifulSoup\n",
        "- Start with importing the requests and BeautifulSoup libraries.\n",
        "- Then create a viable with **'http://quotes.toscrape.com/'** as the foundation of all pages on the website.\n",
        "- Using get() function from requests inorder to get a web object containing the data from web page."
      ]
    },
    {
      "cell_type": "code",
      "execution_count": null,
      "metadata": {
        "id": "cc5B_BlsXTiP",
        "outputId": "efe26fd7-9b7e-4398-d482-7cbba486cfdf"
      },
      "outputs": [
        {
          "name": "stdout",
          "output_type": "stream",
          "text": [
            "Status Code: 200\n"
          ]
        }
      ],
      "source": [
        "import requests\n",
        "from bs4 import BeautifulSoup\n",
        "\n",
        "#Getting the web page with the data for the quotes as a Beautiful Soup document\n",
        "response = requests.get('http://quotes.toscrape.com/page/2/')\n",
        "\n",
        "#checking if the request was successful\n",
        "if response.status_code != 200:\n",
        "    print('Status code:', response.status_code)\n",
        "    raise Exception('Failed to fetch web page because acceptable entries are daily or weekly or monthly')\n",
        "# A Valid url status code ranges between 200 to 299\n",
        "print('Status Code:', response.status_code)"
      ]
    },
    {
      "cell_type": "code",
      "execution_count": null,
      "metadata": {
        "id": "nkHBapSbXTiR"
      },
      "outputs": [],
      "source": [
        "#Writing the page contents into a html file\n",
        "with open('scrapping quotes.html','w') as f:\n",
        "    f.write(response.text)\n",
        "# Converting the page to  Beautiful soup document using html.parser\n",
        "doc = BeautifulSoup(response.text,'html.parser')"
      ]
    },
    {
      "cell_type": "markdown",
      "metadata": {
        "id": "XaZRkrmcXTiR"
      },
      "source": [
        "![](https://i.imgur.com/KvsoBMi.jpg)"
      ]
    },
    {
      "cell_type": "markdown",
      "metadata": {
        "id": "KqGDeUBqXTiR"
      },
      "source": [
        "Defining a function to check the status code of the extracted elements into a beautifulsoup object using requests, response.status_code and BeautifulSoup."
      ]
    },
    {
      "cell_type": "code",
      "execution_count": null,
      "metadata": {
        "id": "Ncx3VWC0XTiS"
      },
      "outputs": [],
      "source": [
        "def get_page_data(page):\n",
        "    #Getting the web page with the data for the quotes as a Beautiful Soup document\n",
        "    page_repos_url = 'http://quotes.toscrape.com/page/' + str(page) + '/'\n",
        "    response = requests.get(page_repos_url)\n",
        "    #checking if the request was successful\n",
        "    if response.status_code != 200:\n",
        "        print('Status code:', response.status_code)\n",
        "        raise Exception('Failed to fetch web page because acceptable entries are daily or weekly or monthly')\n",
        "    doc = BeautifulSoup(response.text,'html.parser')\n",
        "    return doc;"
      ]
    },
    {
      "cell_type": "markdown",
      "metadata": {
        "id": "7KYDMklNXTiS"
      },
      "source": [
        "## Extracting the elements of the website\n",
        "The different elements are:\n",
        "* quote text\n",
        "* author's name\n",
        "* author's url\n",
        "* tags of the quote\n",
        "* url of the tags of the quote"
      ]
    },
    {
      "cell_type": "code",
      "execution_count": null,
      "metadata": {
        "id": "mSjT-3SmXTiS"
      },
      "outputs": [],
      "source": [
        "#After inspecting the elements on the website and using 'find_all' function the following tags are created\n",
        "t_tags = doc.find_all('span', class_= 'text')\n",
        "a_tags = doc.find_all('small', class_= 'author')\n",
        "u_c_tags = doc.find_all('div', itemtype = 'http://schema.org/CreativeWork')\n",
        "q_tags = doc.find_all('div', class_= 'tags')"
      ]
    },
    {
      "cell_type": "code",
      "execution_count": null,
      "metadata": {
        "id": "0VhAQp8WXTiS",
        "outputId": "ceec8105-f229-46c6-954f-03110a8c1e94"
      },
      "outputs": [
        {
          "data": {
            "text/plain": [
              "\"“If you can't explain it to a six year old, you don't understand it yourself.”\""
            ]
          },
          "execution_count": 5,
          "metadata": {},
          "output_type": "execute_result"
        }
      ],
      "source": [
        "#Inorder to get the text from the t_tag we use our knowledge of indexing of beautifulsoup objects\n",
        "q_text = (t_tags)[2].text\n",
        "#q_text contains the text of the 3rd quote on the 2nd page of the quote website.\n",
        "q_text"
      ]
    },
    {
      "cell_type": "code",
      "execution_count": null,
      "metadata": {
        "id": "hXzotguAXTiT",
        "outputId": "24d48a7c-c711-4fe6-da06-187a3430c763"
      },
      "outputs": [
        {
          "data": {
            "text/plain": [
              "'Albert Einstein'"
            ]
          },
          "execution_count": 6,
          "metadata": {},
          "output_type": "execute_result"
        }
      ],
      "source": [
        "#Inorder to get the a_name from the a_tag we use our knowledge of indexing of beautifulsoup objects\n",
        "a_name = (a_tags)[2].text\n",
        "#author_name contains the name of the author of the 3rd quote on the 2nd page of the quote website.\n",
        "a_name"
      ]
    },
    {
      "cell_type": "code",
      "execution_count": null,
      "metadata": {
        "id": "8u-Ia0ykXTiT",
        "outputId": "416bccb7-e94d-4df6-e12f-a026219d96b4"
      },
      "outputs": [
        {
          "data": {
            "text/plain": [
              "'http://quotes.toscrape.com//author/Albert-Einstein'"
            ]
          },
          "execution_count": 7,
          "metadata": {},
          "output_type": "execute_result"
        }
      ],
      "source": [
        "#From inspection of the website we realise the author's url is in the 'a' tags of the 'div' tag\n",
        "u_tags = (u_c_tags[2]).find_all('a')\n",
        "\n",
        "'''Using our knowledge of indexing and 'href' tags we are to get the url for the author of the \n",
        "3rd quote on the 2nd page of the website.'''\n",
        "a_url = 'http://quotes.toscrape.com/' + (u_tags[0]['href'])\n",
        "a_url"
      ]
    },
    {
      "cell_type": "code",
      "execution_count": null,
      "metadata": {
        "id": "ICpDbqtnXTiT",
        "outputId": "6bd8054d-c9b9-4d7c-ef34-351742ee5530"
      },
      "outputs": [
        {
          "data": {
            "text/plain": [
              "['simplicity', 'understand']"
            ]
          },
          "execution_count": 8,
          "metadata": {},
          "output_type": "execute_result"
        }
      ],
      "source": [
        "#Inorder to get the t_quote from the q_tags we use our knowledge of indexing of beautifulsoup objects\n",
        "t_quote = (q_tags)[2].text.split()\n",
        "\n",
        "'''Inorder to clean our result we use the list function 'pop' to remove the first element of t_quote\n",
        "since for all tags its 'Tags' and we dont want it in our results'''\n",
        "t_quote.pop(0)\n",
        "t_quote"
      ]
    },
    {
      "cell_type": "code",
      "execution_count": null,
      "metadata": {
        "id": "0JKO91RmXTiT",
        "outputId": "54dc044b-4456-4df4-8df1-71f5ca2fb8f8"
      },
      "outputs": [
        {
          "name": "stdout",
          "output_type": "stream",
          "text": [
            "http://quotes.toscrape.com//tag/simplicity/page/1/\n",
            "http://quotes.toscrape.com//tag/understand/page/1/\n"
          ]
        }
      ],
      "source": [
        "'''From inspection of the website we realise the urls for the tags in a quote are in the 'a' tags \n",
        "of the 'div' tag.'''\n",
        "raw_t_q_url = (u_c_tags[2]).find_all('a',class_='tag')\n",
        "\n",
        "'''Since there is more than one tag per quote in most cases we will need to use a for-loop inorder \n",
        "to extract the urls for the tags in the 3rd quote of the 2nd page of quotes.toscrape.com.'''\n",
        "for i in raw_t_q_url:\n",
        "    #To store proper urls we need to use 'href' sub-tag on each element of raw_tags_of_quote_url\n",
        "    i_t_q_url = 'http://quotes.toscrape.com/' + i['href']\n",
        "    print(i_t_q_url)"
      ]
    },
    {
      "cell_type": "markdown",
      "metadata": {
        "id": "opmUXZDrXTiT"
      },
      "source": [
        "## Now we are going to create functions inorder to automate scrapping from all quotes on a desired page\n",
        "### Our sample page will be *'page 3'*"
      ]
    },
    {
      "cell_type": "code",
      "execution_count": null,
      "metadata": {
        "id": "ab1uTNv6XTiU"
      },
      "outputs": [],
      "source": [
        "sample_page = get_page_data(3)"
      ]
    },
    {
      "cell_type": "code",
      "execution_count": null,
      "metadata": {
        "id": "hD5ZFAveXTiU"
      },
      "outputs": [],
      "source": [
        "def get_t_repositotries(doc):\n",
        "    #Scrappping the required tags per quote in \"doc\"\n",
        "    t_tags = doc.find_all('span', class_= 'text')\n",
        "    a_tags = doc.find_all('small', class_= 'author')\n",
        "    u_c_tags = doc.find_all('div', itemtype = 'http://schema.org/CreativeWork')\n",
        "    q_tags = doc.find_all('div', class_= 'tags')\n",
        "    return t_tags, a_tags, u_c_tags, q_tags"
      ]
    },
    {
      "cell_type": "code",
      "execution_count": null,
      "metadata": {
        "id": "wr_2tBTGXTiU"
      },
      "outputs": [],
      "source": [
        "repos3 = get_t_repositotries(sample_page)"
      ]
    },
    {
      "cell_type": "code",
      "execution_count": null,
      "metadata": {
        "id": "yAJ7fFNEXTiU"
      },
      "outputs": [],
      "source": [
        "def get_t_for_elements(repo):\n",
        "    #Get the data for quote's text, and author's name and adding them to the dictionary\n",
        "    #The author's name and quote's text tags are in the 2nd and 1st element of repo respectively\n",
        "    length = len(repo[0])\n",
        "    q_text = []\n",
        "    a_name = []\n",
        "    for i in range (length):\n",
        "        raw_q_text = (repo[0])[i].text\n",
        "        raw_a_name = (repo[1])[i].text\n",
        "        q_text.append(raw_q_text)\n",
        "        a_name.append(raw_a_name)\n",
        "    return q_text, a_name"
      ]
    },
    {
      "cell_type": "code",
      "execution_count": null,
      "metadata": {
        "id": "RZFWfF4tXTiU"
      },
      "outputs": [],
      "source": [
        "text_elements = get_t_for_elements(repos3)"
      ]
    },
    {
      "cell_type": "code",
      "execution_count": null,
      "metadata": {
        "id": "SnMdmq8bXTiV",
        "outputId": "afa3dd43-e2e7-415c-dd9a-8f33676b038f"
      },
      "outputs": [
        {
          "data": {
            "text/plain": [
              "['“I love you without knowing how, or when, or from where. I love you simply, without problems or pride: I love you in this way because I do not know any other way of loving but this, in which there is no I or you, so intimate that your hand upon my chest is my hand, so intimate that when I fall asleep your eyes close.”',\n",
              " '“For every minute you are angry you lose sixty seconds of happiness.”',\n",
              " '“If you judge people, you have no time to love them.”',\n",
              " '“Anyone who thinks sitting in church can make you a Christian must also think that sitting in a garage can make you a car.”',\n",
              " '“Beauty is in the eye of the beholder and it may be necessary from time to time to give a stupid or misinformed beholder a black eye.”',\n",
              " '“Today you are You, that is truer than true. There is no one alive who is Youer than You.”',\n",
              " '“If you want your children to be intelligent, read them fairy tales. If you want them to be more intelligent, read them more fairy tales.”',\n",
              " '“It is impossible to live without failing at something, unless you live so cautiously that you might as well not have lived at all - in which case, you fail by default.”',\n",
              " '“Logic will get you from A to Z; imagination will get you everywhere.”',\n",
              " '“One good thing about music, when it hits you, you feel no pain.”']"
            ]
          },
          "execution_count": 15,
          "metadata": {},
          "output_type": "execute_result"
        }
      ],
      "source": [
        "text_elements[0]"
      ]
    },
    {
      "cell_type": "code",
      "execution_count": null,
      "metadata": {
        "id": "iZ7oxkHRXTiV",
        "outputId": "1bc6576d-2a92-4ae3-d130-0c4f28186312"
      },
      "outputs": [
        {
          "data": {
            "text/plain": [
              "['Pablo Neruda',\n",
              " 'Ralph Waldo Emerson',\n",
              " 'Mother Teresa',\n",
              " 'Garrison Keillor',\n",
              " 'Jim Henson',\n",
              " 'Dr. Seuss',\n",
              " 'Albert Einstein',\n",
              " 'J.K. Rowling',\n",
              " 'Albert Einstein',\n",
              " 'Bob Marley']"
            ]
          },
          "execution_count": 16,
          "metadata": {},
          "output_type": "execute_result"
        }
      ],
      "source": [
        "text_elements[1]"
      ]
    },
    {
      "cell_type": "code",
      "execution_count": null,
      "metadata": {
        "id": "VsALa0xrXTiV"
      },
      "outputs": [],
      "source": [
        "#We need to create a viable base_url which will contain the basic element of a quote.toscrape url\n",
        "base_url = 'http://quotes.toscrape.com/'\n",
        "a_url =[]\n",
        "def get_a_url(repo):\n",
        "    #Getting the url for the author of the text inorder to add it to the dictionary\n",
        "    #The url for each author is part of the 3rd element of repo\n",
        "    for i in repo[2]:\n",
        "        #Inorder to extract the urls we need to extract the 'a' tags from Tag_repositories[2]\n",
        "        u_tags = (i.find_all('a'))\n",
        "        raw_a_url = base_url + (u_tags[0]['href'])\n",
        "        a_url.append(raw_a_url)\n",
        "    return a_url"
      ]
    },
    {
      "cell_type": "code",
      "execution_count": null,
      "metadata": {
        "id": "WdNnsphSXTiV",
        "outputId": "b5aaa8da-fe96-452e-d4aa-d042f8e9929b"
      },
      "outputs": [
        {
          "data": {
            "text/plain": [
              "['http://quotes.toscrape.com//author/Pablo-Neruda',\n",
              " 'http://quotes.toscrape.com//author/Ralph-Waldo-Emerson',\n",
              " 'http://quotes.toscrape.com//author/Mother-Teresa',\n",
              " 'http://quotes.toscrape.com//author/Garrison-Keillor',\n",
              " 'http://quotes.toscrape.com//author/Jim-Henson',\n",
              " 'http://quotes.toscrape.com//author/Dr-Seuss',\n",
              " 'http://quotes.toscrape.com//author/Albert-Einstein',\n",
              " 'http://quotes.toscrape.com//author/J-K-Rowling',\n",
              " 'http://quotes.toscrape.com//author/Albert-Einstein',\n",
              " 'http://quotes.toscrape.com//author/Bob-Marley']"
            ]
          },
          "execution_count": 18,
          "metadata": {},
          "output_type": "execute_result"
        }
      ],
      "source": [
        "A_url_element = get_a_url(repos3)\n",
        "A_url_element"
      ]
    },
    {
      "cell_type": "code",
      "execution_count": null,
      "metadata": {
        "id": "vy57-I7BXTiV"
      },
      "outputs": [],
      "source": [
        "def get_ts_of_quote(repo):\n",
        "    #The tags_of_quote tags are in the 4th element of repo\n",
        "    #We need to create the list 't_quote' since the function is returning more than one value per quote\n",
        "    length = len(repo[3])\n",
        "    t_quote = []\n",
        "    for i in range (length):\n",
        "        raw_t_quote = (repo[3])[i].text.split()\n",
        "        t_quote.append(raw_t_quote)\n",
        "    return t_quote"
      ]
    },
    {
      "cell_type": "code",
      "execution_count": null,
      "metadata": {
        "id": "li6K1BlJXTiW",
        "outputId": "baab13d2-e2bc-4786-ff5f-d40a9eafb569"
      },
      "outputs": [
        {
          "data": {
            "text/plain": [
              "[['Tags:', 'love', 'poetry'],\n",
              " ['Tags:', 'happiness'],\n",
              " ['Tags:', 'attributed-no-source'],\n",
              " ['Tags:', 'humor', 'religion'],\n",
              " ['Tags:', 'humor'],\n",
              " ['Tags:', 'comedy', 'life', 'yourself'],\n",
              " ['Tags:', 'children', 'fairy-tales'],\n",
              " [],\n",
              " ['Tags:', 'imagination'],\n",
              " ['Tags:', 'music']]"
            ]
          },
          "execution_count": 20,
          "metadata": {},
          "output_type": "execute_result"
        }
      ],
      "source": [
        "ts_of_quote = get_ts_of_quote(repos3)\n",
        "ts_of_quote"
      ]
    },
    {
      "cell_type": "code",
      "execution_count": null,
      "metadata": {
        "id": "Kueu2SkVXTiW"
      },
      "outputs": [],
      "source": [
        "def get_ts_of_quote_url(repo):\n",
        "    #The url for each tag per quote is part of the 3rd element of repo\n",
        "    #We need to create the list 'ts_of_quote_url' since the function is returning more than one value per quote \n",
        "    ts_of_quote_url = []\n",
        "    for i in repo[2]:\n",
        "        #Inorder to extract the urls we need to extract the 'a' tags with the class 'tag' from repo[2]\n",
        "        raw_ts_of_quote_url = i.find_all('a',class_='tag')\n",
        "        i_ts_of_quote_url = []\n",
        "        for z in raw_ts_of_quote_url:\n",
        "            #To store proper urls we need to use 'href' sub-tag on each element of raw_ts_of_quote_url\n",
        "            individual_ts_of_quote_url = base_url + z['href']\n",
        "            i_ts_of_quote_url.append(individual_ts_of_quote_url)\n",
        "        ts_of_quote_url.append(i_ts_of_quote_url)\n",
        "    return ts_of_quote_url"
      ]
    },
    {
      "cell_type": "code",
      "execution_count": null,
      "metadata": {
        "id": "fJJzX7leXTiW",
        "outputId": "2c07beea-ce19-4c8a-ab80-63fd9c9ac958"
      },
      "outputs": [
        {
          "data": {
            "text/plain": [
              "[['http://quotes.toscrape.com//tag/love/page/1/',\n",
              "  'http://quotes.toscrape.com//tag/poetry/page/1/'],\n",
              " ['http://quotes.toscrape.com//tag/happiness/page/1/'],\n",
              " ['http://quotes.toscrape.com//tag/attributed-no-source/page/1/'],\n",
              " ['http://quotes.toscrape.com//tag/humor/page/1/',\n",
              "  'http://quotes.toscrape.com//tag/religion/page/1/'],\n",
              " ['http://quotes.toscrape.com//tag/humor/page/1/'],\n",
              " ['http://quotes.toscrape.com//tag/comedy/page/1/',\n",
              "  'http://quotes.toscrape.com//tag/life/page/1/',\n",
              "  'http://quotes.toscrape.com//tag/yourself/page/1/'],\n",
              " ['http://quotes.toscrape.com//tag/children/page/1/',\n",
              "  'http://quotes.toscrape.com//tag/fairy-tales/page/1/'],\n",
              " [],\n",
              " ['http://quotes.toscrape.com//tag/imagination/page/1/'],\n",
              " ['http://quotes.toscrape.com//tag/music/page/1/']]"
            ]
          },
          "execution_count": 22,
          "metadata": {},
          "output_type": "execute_result"
        }
      ],
      "source": [
        "ts_of_quote_url = get_ts_of_quote_url(repos3)\n",
        "ts_of_quote_url"
      ]
    },
    {
      "cell_type": "code",
      "execution_count": null,
      "metadata": {
        "id": "9XZjwmPeXTiW"
      },
      "outputs": [],
      "source": []
    },
    {
      "cell_type": "markdown",
      "metadata": {
        "id": "46R_6fRkXTiW"
      },
      "source": [
        "## Scraping multiple pages\n",
        "We will write code to scrape any number of page of the quote-toscrape website, with the output being a csv file."
      ]
    },
    {
      "cell_type": "code",
      "execution_count": null,
      "metadata": {
        "id": "XjVpTBsNXTiW",
        "outputId": "d50627dd-0568-446d-da5c-48d501d34450"
      },
      "outputs": [
        {
          "name": "stdout",
          "output_type": "stream",
          "text": [
            "[1, 2, 3, 4, 5]\n"
          ]
        }
      ],
      "source": [
        "b = 5\n",
        "p = list(range(1,b+1,1))\n",
        "print (p)"
      ]
    },
    {
      "cell_type": "code",
      "execution_count": null,
      "metadata": {
        "id": "ziYTrQvkXTiW"
      },
      "outputs": [],
      "source": [
        "import requests\n",
        "from bs4 import BeautifulSoup\n",
        "base_url = 'http://quotes.toscrape.com/'\n",
        "# quote_dict is the dictionary from the csv file is going to be created from \n",
        "quote_dict = {'quote_text' : [], 'author_name' : [], 'author_url' :[], 'tags_of_quote' : [], 'tags_of_quote_url' : []}\n",
        "\n",
        "def scrape_quotes(number):\n",
        "    '''Get the quote's text, author's name, tags in the quote, author's url,  and the url for each of the tags in the quote per page \n",
        "    on quotes.toscrape.com and write them to a CSV file'''\n",
        "    # page_number stands for the number of pages starting from page 1 to be scraped per csv file\n",
        "    if type(number) == int:\n",
        "        #Since scrape_quotes takes inputes of only the type 'int'\n",
        "        if number < 11:\n",
        "            #Since quotes.toscrape.com has a maximum of 10 pages\n",
        "            page_list = (list(range(1,number+1,1)))\n",
        "            # We use the range function to create a range of number from 1 to number with intervals of 1\n",
        "            # We use the function list to make sure the value of page_list is a list\n",
        "            for i in page_list:\n",
        "                page = i\n",
        "                path = str(page) + '.csv'\n",
        "                #Creatig Page_doc which will be a beautiful Soup document\n",
        "                Page_doc = get_page_data(page)\n",
        "                #Tag_repositories will contain the tags from which we will get our desired data\n",
        "                Tag_repositories = get_tag_repositotries(Page_doc)\n",
        "                #Author_url extracts the url for the author \n",
        "                Author_url = get_author_url(Tag_repositories)\n",
        "                #Tags_of_quote_url extracts the url of the tags per quote\n",
        "                Tags_of_quote_url = get_tags_of_quote_url(Tag_repositories)\n",
        "                #Quote_data extracts the author's name and quote's text of the quote\n",
        "                Quote_data = get_tags_for_elements(Tag_repositories)\n",
        "                #Quote_tags extracts the tags of the quote\n",
        "                Tags_of_quote = get_tags_of_quote_(Tag_repositories)\n",
        "                #Creates a csv file from the dict\n",
        "            write_csv(quote_dict, path)\n",
        "            print('The data for quotes on page \"{}\" of quotes.toscrape.com written to file \"{}\"'.format(page, path))\n",
        "        else:\n",
        "            print('The input {} is out of range, <=10.'.format(number))\n",
        "    else:\n",
        "        print('The input must be a integer.'.format(number));\n",
        "\n",
        "def get_page_data(page):\n",
        "    #Getting the web page with the data for the quotes as a Beautiful Soup document\n",
        "    page_repos_url = 'http://quotes.toscrape.com/page/' + str(page) + '/'\n",
        "    response = requests.get(page_repos_url)\n",
        "    #checking if the request was successful\n",
        "    if response.status_code != 200:\n",
        "        print('Status code:', response.status_code)\n",
        "        raise Exception('Failed to fetch web page because acceptable entries are daily or weekly or monthly')\n",
        "    doc = BeautifulSoup(response.text,'html.parser')\n",
        "    return doc;\n",
        "\n",
        "def get_tag_repositotries(doc):\n",
        "    #Scrappping the tags per element of a quote in \"doc\"\n",
        "    text_tags = doc.find_all('span', class_= 'text')\n",
        "    author_tags = doc.find_all('small', class_= 'author')\n",
        "    url_contents_tags = doc.find_all('div', itemtype = 'http://schema.org/CreativeWork')\n",
        "    quote_tags = doc.find_all('div', class_= 'tags')\n",
        "    return text_tags, author_tags, url_contents_tags, quote_tags;\n",
        "\n",
        "def get_author_url(repo):\n",
        "    #Getting the url for the author of the text inorder to add it to the dictionary\n",
        "    #The url for each author is part of the 3rd element of Tag_repositories\n",
        "    for i in repo[2]:\n",
        "        #Inorder to extract the urls we need to extract the 'a' tags from Tag_repositories[2]\n",
        "        url_tags = (i.find_all('a'))\n",
        "        author_url = base_url + (url_tags[0]['href'])\n",
        "        quote_dict['author_url'].append(author_url)\n",
        "    return quote_dict\n",
        "\n",
        "def get_tags_of_quote_url(repo):\n",
        "    #Getting the urls of the tags attached to a quote inorder to add them to the dictionary\n",
        "    #A list will be created which will be added to the dict\n",
        "    #The url for each tag per quote is part of the 3rd element of Tag_repositories\n",
        "    for i in repo[2]:\n",
        "        #Inorder to extract the urls we need to extract the 'a' tags with the class 'tag' from Tag_repositories[2]\n",
        "        raw_tags_of_quote_url = i.find_all('a',class_='tag')\n",
        "        tags_of_quote_url = []\n",
        "        for z in raw_tags_of_quote_url:\n",
        "            #To store proper urls we need to use 'href' sub-tag on each element of raw_tags_of_quote_url\n",
        "            individual_tags_of_quote_url = base_url + z['href']\n",
        "            tags_of_quote_url.append(individual_tags_of_quote_url)\n",
        "        quote_dict['tags_of_quote_url'].append(tags_of_quote_url)\n",
        "    return quote_dict\n",
        "\n",
        "def get_tags_for_elements(repo):\n",
        "    #Get the data for quote's text, and author's name and adding them to the dictionary\n",
        "    #The author's name and quote's text tags are in the 2nd and 1st element of Tag_repositories respectively\n",
        "    length = len(repo[0])\n",
        "    for i in range (length):\n",
        "        quote_text = (repo[0])[i].text\n",
        "        author_name = (repo[1])[i].text\n",
        "        quote_dict['quote_text'].append(quote_text)\n",
        "        quote_dict['author_name'].append(author_name)\n",
        "    return quote_dict\n",
        "\n",
        "def get_tags_of_quote_(repo):\n",
        "    #Get the list of quote's tags and add it to the dictionary\n",
        "    #The tags_of_quote tags are in the 4th element of Tag_repositories\n",
        "    length = len(repo[3])\n",
        "    for i in range (length):\n",
        "        individual_tags_of_quote = (repo[3])[i].text.split()\n",
        "        quote_dict['tags_of_quote'].append(individual_tags_of_quote)\n",
        "    return quote_dict\n",
        "\n",
        "def write_csv(items, path):\n",
        "    #Creates a csv file from a df\n",
        "    with open(path, 'w') as f:\n",
        "        if len(items) == 0:\n",
        "            return\n",
        "    import pandas as pd\n",
        "    if type(items) == dict:\n",
        "        #Creates a df from a dict\n",
        "        df = pd.DataFrame(items)\n",
        "        df.to_csv(path, index=False)\n",
        "    else:\n",
        "        print('Either 1st arguments isnt a dictionary or 2nd arguments isnt a valid path')"
      ]
    },
    {
      "cell_type": "code",
      "execution_count": null,
      "metadata": {
        "id": "aGFD7vhVXTiX",
        "outputId": "6630c13c-1a76-4313-c529-5c0007bd2fb8"
      },
      "outputs": [
        {
          "name": "stdout",
          "output_type": "stream",
          "text": [
            "The data for quotes on page \"4\" of quotes.toscrape.com written to file \"4.csv\"\n"
          ]
        }
      ],
      "source": [
        "scrape_quotes(4)"
      ]
    },
    {
      "cell_type": "code",
      "execution_count": null,
      "metadata": {
        "id": "c1giZ8CTXTiX",
        "outputId": "4801dfba-49f1-42d2-a7b8-5c1bbb4ba03f"
      },
      "outputs": [
        {
          "data": {
            "text/html": [
              "<div>\n",
              "<style scoped>\n",
              "    .dataframe tbody tr th:only-of-type {\n",
              "        vertical-align: middle;\n",
              "    }\n",
              "\n",
              "    .dataframe tbody tr th {\n",
              "        vertical-align: top;\n",
              "    }\n",
              "\n",
              "    .dataframe thead th {\n",
              "        text-align: right;\n",
              "    }\n",
              "</style>\n",
              "<table border=\"1\" class=\"dataframe\">\n",
              "  <thead>\n",
              "    <tr style=\"text-align: right;\">\n",
              "      <th></th>\n",
              "      <th>quote_text</th>\n",
              "      <th>author_name</th>\n",
              "      <th>author_url</th>\n",
              "      <th>tags_of_quote</th>\n",
              "      <th>tags_of_quote_url</th>\n",
              "    </tr>\n",
              "  </thead>\n",
              "  <tbody>\n",
              "    <tr>\n",
              "      <th>0</th>\n",
              "      <td>“The world as we have created it is a process ...</td>\n",
              "      <td>Albert Einstein</td>\n",
              "      <td>http://quotes.toscrape.com//author/Albert-Eins...</td>\n",
              "      <td>[Tags:, change, deep-thoughts, thinking, world]</td>\n",
              "      <td>[http://quotes.toscrape.com//tag/change/page/1...</td>\n",
              "    </tr>\n",
              "    <tr>\n",
              "      <th>1</th>\n",
              "      <td>“It is our choices, Harry, that show what we t...</td>\n",
              "      <td>J.K. Rowling</td>\n",
              "      <td>http://quotes.toscrape.com//author/J-K-Rowling</td>\n",
              "      <td>[Tags:, abilities, choices]</td>\n",
              "      <td>[http://quotes.toscrape.com//tag/abilities/pag...</td>\n",
              "    </tr>\n",
              "    <tr>\n",
              "      <th>2</th>\n",
              "      <td>“There are only two ways to live your life. On...</td>\n",
              "      <td>Albert Einstein</td>\n",
              "      <td>http://quotes.toscrape.com//author/Albert-Eins...</td>\n",
              "      <td>[Tags:, inspirational, life, live, miracle, mi...</td>\n",
              "      <td>[http://quotes.toscrape.com//tag/inspirational...</td>\n",
              "    </tr>\n",
              "    <tr>\n",
              "      <th>3</th>\n",
              "      <td>“The person, be it gentleman or lady, who has ...</td>\n",
              "      <td>Jane Austen</td>\n",
              "      <td>http://quotes.toscrape.com//author/Jane-Austen</td>\n",
              "      <td>[Tags:, aliteracy, books, classic, humor]</td>\n",
              "      <td>[http://quotes.toscrape.com//tag/aliteracy/pag...</td>\n",
              "    </tr>\n",
              "    <tr>\n",
              "      <th>4</th>\n",
              "      <td>“Imperfection is beauty, madness is genius and...</td>\n",
              "      <td>Marilyn Monroe</td>\n",
              "      <td>http://quotes.toscrape.com//author/Marilyn-Monroe</td>\n",
              "      <td>[Tags:, be-yourself, inspirational]</td>\n",
              "      <td>[http://quotes.toscrape.com//tag/be-yourself/p...</td>\n",
              "    </tr>\n",
              "    <tr>\n",
              "      <th>5</th>\n",
              "      <td>“Try not to become a man of success. Rather be...</td>\n",
              "      <td>Albert Einstein</td>\n",
              "      <td>http://quotes.toscrape.com//author/Albert-Eins...</td>\n",
              "      <td>[Tags:, adulthood, success, value]</td>\n",
              "      <td>[http://quotes.toscrape.com//tag/adulthood/pag...</td>\n",
              "    </tr>\n",
              "    <tr>\n",
              "      <th>6</th>\n",
              "      <td>“It is better to be hated for what you are tha...</td>\n",
              "      <td>André Gide</td>\n",
              "      <td>http://quotes.toscrape.com//author/Andre-Gide</td>\n",
              "      <td>[Tags:, life, love]</td>\n",
              "      <td>[http://quotes.toscrape.com//tag/life/page/1/,...</td>\n",
              "    </tr>\n",
              "    <tr>\n",
              "      <th>7</th>\n",
              "      <td>“I have not failed. I've just found 10,000 way...</td>\n",
              "      <td>Thomas A. Edison</td>\n",
              "      <td>http://quotes.toscrape.com//author/Thomas-A-Ed...</td>\n",
              "      <td>[Tags:, edison, failure, inspirational, paraph...</td>\n",
              "      <td>[http://quotes.toscrape.com//tag/edison/page/1...</td>\n",
              "    </tr>\n",
              "    <tr>\n",
              "      <th>8</th>\n",
              "      <td>“A woman is like a tea bag; you never know how...</td>\n",
              "      <td>Eleanor Roosevelt</td>\n",
              "      <td>http://quotes.toscrape.com//author/Eleanor-Roo...</td>\n",
              "      <td>[Tags:, misattributed-eleanor-roosevelt]</td>\n",
              "      <td>[http://quotes.toscrape.com//tag/misattributed...</td>\n",
              "    </tr>\n",
              "    <tr>\n",
              "      <th>9</th>\n",
              "      <td>“A day without sunshine is like, you know, nig...</td>\n",
              "      <td>Steve Martin</td>\n",
              "      <td>http://quotes.toscrape.com//author/Steve-Martin</td>\n",
              "      <td>[Tags:, humor, obvious, simile]</td>\n",
              "      <td>[http://quotes.toscrape.com//tag/humor/page/1/...</td>\n",
              "    </tr>\n",
              "    <tr>\n",
              "      <th>10</th>\n",
              "      <td>“This life is what you make it. No matter what...</td>\n",
              "      <td>Marilyn Monroe</td>\n",
              "      <td>http://quotes.toscrape.com//author/Marilyn-Monroe</td>\n",
              "      <td>[Tags:, friends, heartbreak, inspirational, li...</td>\n",
              "      <td>[http://quotes.toscrape.com//tag/friends/page/...</td>\n",
              "    </tr>\n",
              "    <tr>\n",
              "      <th>11</th>\n",
              "      <td>“It takes a great deal of bravery to stand up ...</td>\n",
              "      <td>J.K. Rowling</td>\n",
              "      <td>http://quotes.toscrape.com//author/J-K-Rowling</td>\n",
              "      <td>[Tags:, courage, friends]</td>\n",
              "      <td>[http://quotes.toscrape.com//tag/courage/page/...</td>\n",
              "    </tr>\n",
              "    <tr>\n",
              "      <th>12</th>\n",
              "      <td>“If you can't explain it to a six year old, yo...</td>\n",
              "      <td>Albert Einstein</td>\n",
              "      <td>http://quotes.toscrape.com//author/Albert-Eins...</td>\n",
              "      <td>[Tags:, simplicity, understand]</td>\n",
              "      <td>[http://quotes.toscrape.com//tag/simplicity/pa...</td>\n",
              "    </tr>\n",
              "    <tr>\n",
              "      <th>13</th>\n",
              "      <td>“You may not be her first, her last, or her on...</td>\n",
              "      <td>Bob Marley</td>\n",
              "      <td>http://quotes.toscrape.com//author/Bob-Marley</td>\n",
              "      <td>[Tags:, love]</td>\n",
              "      <td>[http://quotes.toscrape.com//tag/love/page/1/]</td>\n",
              "    </tr>\n",
              "    <tr>\n",
              "      <th>14</th>\n",
              "      <td>“I like nonsense, it wakes up the brain cells....</td>\n",
              "      <td>Dr. Seuss</td>\n",
              "      <td>http://quotes.toscrape.com//author/Dr-Seuss</td>\n",
              "      <td>[Tags:, fantasy]</td>\n",
              "      <td>[http://quotes.toscrape.com//tag/fantasy/page/1/]</td>\n",
              "    </tr>\n",
              "    <tr>\n",
              "      <th>15</th>\n",
              "      <td>“I may not have gone where I intended to go, b...</td>\n",
              "      <td>Douglas Adams</td>\n",
              "      <td>http://quotes.toscrape.com//author/Douglas-Adams</td>\n",
              "      <td>[Tags:, life, navigation]</td>\n",
              "      <td>[http://quotes.toscrape.com//tag/life/page/1/,...</td>\n",
              "    </tr>\n",
              "    <tr>\n",
              "      <th>16</th>\n",
              "      <td>“The opposite of love is not hate, it's indiff...</td>\n",
              "      <td>Elie Wiesel</td>\n",
              "      <td>http://quotes.toscrape.com//author/Elie-Wiesel</td>\n",
              "      <td>[Tags:, activism, apathy, hate, indifference, ...</td>\n",
              "      <td>[http://quotes.toscrape.com//tag/activism/page...</td>\n",
              "    </tr>\n",
              "    <tr>\n",
              "      <th>17</th>\n",
              "      <td>“It is not a lack of love, but a lack of frien...</td>\n",
              "      <td>Friedrich Nietzsche</td>\n",
              "      <td>http://quotes.toscrape.com//author/Friedrich-N...</td>\n",
              "      <td>[Tags:, friendship, lack-of-friendship, lack-o...</td>\n",
              "      <td>[http://quotes.toscrape.com//tag/friendship/pa...</td>\n",
              "    </tr>\n",
              "    <tr>\n",
              "      <th>18</th>\n",
              "      <td>“Good friends, good books, and a sleepy consci...</td>\n",
              "      <td>Mark Twain</td>\n",
              "      <td>http://quotes.toscrape.com//author/Mark-Twain</td>\n",
              "      <td>[Tags:, books, contentment, friends, friendshi...</td>\n",
              "      <td>[http://quotes.toscrape.com//tag/books/page/1/...</td>\n",
              "    </tr>\n",
              "    <tr>\n",
              "      <th>19</th>\n",
              "      <td>“Life is what happens to us while we are makin...</td>\n",
              "      <td>Allen Saunders</td>\n",
              "      <td>http://quotes.toscrape.com//author/Allen-Saunders</td>\n",
              "      <td>[Tags:, fate, life, misattributed-john-lennon,...</td>\n",
              "      <td>[http://quotes.toscrape.com//tag/fate/page/1/,...</td>\n",
              "    </tr>\n",
              "    <tr>\n",
              "      <th>20</th>\n",
              "      <td>“I love you without knowing how, or when, or f...</td>\n",
              "      <td>Pablo Neruda</td>\n",
              "      <td>http://quotes.toscrape.com//author/Pablo-Neruda</td>\n",
              "      <td>[Tags:, love, poetry]</td>\n",
              "      <td>[http://quotes.toscrape.com//tag/love/page/1/,...</td>\n",
              "    </tr>\n",
              "    <tr>\n",
              "      <th>21</th>\n",
              "      <td>“For every minute you are angry you lose sixty...</td>\n",
              "      <td>Ralph Waldo Emerson</td>\n",
              "      <td>http://quotes.toscrape.com//author/Ralph-Waldo...</td>\n",
              "      <td>[Tags:, happiness]</td>\n",
              "      <td>[http://quotes.toscrape.com//tag/happiness/pag...</td>\n",
              "    </tr>\n",
              "    <tr>\n",
              "      <th>22</th>\n",
              "      <td>“If you judge people, you have no time to love...</td>\n",
              "      <td>Mother Teresa</td>\n",
              "      <td>http://quotes.toscrape.com//author/Mother-Teresa</td>\n",
              "      <td>[Tags:, attributed-no-source]</td>\n",
              "      <td>[http://quotes.toscrape.com//tag/attributed-no...</td>\n",
              "    </tr>\n",
              "    <tr>\n",
              "      <th>23</th>\n",
              "      <td>“Anyone who thinks sitting in church can make ...</td>\n",
              "      <td>Garrison Keillor</td>\n",
              "      <td>http://quotes.toscrape.com//author/Garrison-Ke...</td>\n",
              "      <td>[Tags:, humor, religion]</td>\n",
              "      <td>[http://quotes.toscrape.com//tag/humor/page/1/...</td>\n",
              "    </tr>\n",
              "    <tr>\n",
              "      <th>24</th>\n",
              "      <td>“Beauty is in the eye of the beholder and it m...</td>\n",
              "      <td>Jim Henson</td>\n",
              "      <td>http://quotes.toscrape.com//author/Jim-Henson</td>\n",
              "      <td>[Tags:, humor]</td>\n",
              "      <td>[http://quotes.toscrape.com//tag/humor/page/1/]</td>\n",
              "    </tr>\n",
              "    <tr>\n",
              "      <th>25</th>\n",
              "      <td>“Today you are You, that is truer than true. T...</td>\n",
              "      <td>Dr. Seuss</td>\n",
              "      <td>http://quotes.toscrape.com//author/Dr-Seuss</td>\n",
              "      <td>[Tags:, comedy, life, yourself]</td>\n",
              "      <td>[http://quotes.toscrape.com//tag/comedy/page/1...</td>\n",
              "    </tr>\n",
              "    <tr>\n",
              "      <th>26</th>\n",
              "      <td>“If you want your children to be intelligent, ...</td>\n",
              "      <td>Albert Einstein</td>\n",
              "      <td>http://quotes.toscrape.com//author/Albert-Eins...</td>\n",
              "      <td>[Tags:, children, fairy-tales]</td>\n",
              "      <td>[http://quotes.toscrape.com//tag/children/page...</td>\n",
              "    </tr>\n",
              "    <tr>\n",
              "      <th>27</th>\n",
              "      <td>“It is impossible to live without failing at s...</td>\n",
              "      <td>J.K. Rowling</td>\n",
              "      <td>http://quotes.toscrape.com//author/J-K-Rowling</td>\n",
              "      <td>[]</td>\n",
              "      <td>[]</td>\n",
              "    </tr>\n",
              "    <tr>\n",
              "      <th>28</th>\n",
              "      <td>“Logic will get you from A to Z; imagination w...</td>\n",
              "      <td>Albert Einstein</td>\n",
              "      <td>http://quotes.toscrape.com//author/Albert-Eins...</td>\n",
              "      <td>[Tags:, imagination]</td>\n",
              "      <td>[http://quotes.toscrape.com//tag/imagination/p...</td>\n",
              "    </tr>\n",
              "    <tr>\n",
              "      <th>29</th>\n",
              "      <td>“One good thing about music, when it hits you,...</td>\n",
              "      <td>Bob Marley</td>\n",
              "      <td>http://quotes.toscrape.com//author/Bob-Marley</td>\n",
              "      <td>[Tags:, music]</td>\n",
              "      <td>[http://quotes.toscrape.com//tag/music/page/1/]</td>\n",
              "    </tr>\n",
              "    <tr>\n",
              "      <th>30</th>\n",
              "      <td>“The more that you read, the more things you w...</td>\n",
              "      <td>Dr. Seuss</td>\n",
              "      <td>http://quotes.toscrape.com//author/Dr-Seuss</td>\n",
              "      <td>[Tags:, learning, reading, seuss]</td>\n",
              "      <td>[http://quotes.toscrape.com//tag/learning/page...</td>\n",
              "    </tr>\n",
              "    <tr>\n",
              "      <th>31</th>\n",
              "      <td>“Of course it is happening inside your head, H...</td>\n",
              "      <td>J.K. Rowling</td>\n",
              "      <td>http://quotes.toscrape.com//author/J-K-Rowling</td>\n",
              "      <td>[Tags:, dumbledore]</td>\n",
              "      <td>[http://quotes.toscrape.com//tag/dumbledore/pa...</td>\n",
              "    </tr>\n",
              "    <tr>\n",
              "      <th>32</th>\n",
              "      <td>“The truth is, everyone is going to hurt you. ...</td>\n",
              "      <td>Bob Marley</td>\n",
              "      <td>http://quotes.toscrape.com//author/Bob-Marley</td>\n",
              "      <td>[Tags:, friendship]</td>\n",
              "      <td>[http://quotes.toscrape.com//tag/friendship/pa...</td>\n",
              "    </tr>\n",
              "    <tr>\n",
              "      <th>33</th>\n",
              "      <td>“Not all of us can do great things. But we can...</td>\n",
              "      <td>Mother Teresa</td>\n",
              "      <td>http://quotes.toscrape.com//author/Mother-Teresa</td>\n",
              "      <td>[Tags:, misattributed-to-mother-teresa, paraph...</td>\n",
              "      <td>[http://quotes.toscrape.com//tag/misattributed...</td>\n",
              "    </tr>\n",
              "    <tr>\n",
              "      <th>34</th>\n",
              "      <td>“To the well-organized mind, death is but the ...</td>\n",
              "      <td>J.K. Rowling</td>\n",
              "      <td>http://quotes.toscrape.com//author/J-K-Rowling</td>\n",
              "      <td>[Tags:, death, inspirational]</td>\n",
              "      <td>[http://quotes.toscrape.com//tag/death/page/1/...</td>\n",
              "    </tr>\n",
              "    <tr>\n",
              "      <th>35</th>\n",
              "      <td>“All you need is love. But a little chocolate ...</td>\n",
              "      <td>Charles M. Schulz</td>\n",
              "      <td>http://quotes.toscrape.com//author/Charles-M-S...</td>\n",
              "      <td>[Tags:, chocolate, food, humor]</td>\n",
              "      <td>[http://quotes.toscrape.com//tag/chocolate/pag...</td>\n",
              "    </tr>\n",
              "    <tr>\n",
              "      <th>36</th>\n",
              "      <td>“We read to know we're not alone.”</td>\n",
              "      <td>William Nicholson</td>\n",
              "      <td>http://quotes.toscrape.com//author/William-Nic...</td>\n",
              "      <td>[Tags:, misattributed-to-c-s-lewis, reading]</td>\n",
              "      <td>[http://quotes.toscrape.com//tag/misattributed...</td>\n",
              "    </tr>\n",
              "    <tr>\n",
              "      <th>37</th>\n",
              "      <td>“Any fool can know. The point is to understand.”</td>\n",
              "      <td>Albert Einstein</td>\n",
              "      <td>http://quotes.toscrape.com//author/Albert-Eins...</td>\n",
              "      <td>[Tags:, knowledge, learning, understanding, wi...</td>\n",
              "      <td>[http://quotes.toscrape.com//tag/knowledge/pag...</td>\n",
              "    </tr>\n",
              "    <tr>\n",
              "      <th>38</th>\n",
              "      <td>“I have always imagined that Paradise will be ...</td>\n",
              "      <td>Jorge Luis Borges</td>\n",
              "      <td>http://quotes.toscrape.com//author/Jorge-Luis-...</td>\n",
              "      <td>[Tags:, books, library]</td>\n",
              "      <td>[http://quotes.toscrape.com//tag/books/page/1/...</td>\n",
              "    </tr>\n",
              "    <tr>\n",
              "      <th>39</th>\n",
              "      <td>“It is never too late to be what you might hav...</td>\n",
              "      <td>George Eliot</td>\n",
              "      <td>http://quotes.toscrape.com//author/George-Eliot</td>\n",
              "      <td>[Tags:, inspirational]</td>\n",
              "      <td>[http://quotes.toscrape.com//tag/inspirational...</td>\n",
              "    </tr>\n",
              "  </tbody>\n",
              "</table>\n",
              "</div>"
            ],
            "text/plain": [
              "                                           quote_text          author_name  \\\n",
              "0   “The world as we have created it is a process ...      Albert Einstein   \n",
              "1   “It is our choices, Harry, that show what we t...         J.K. Rowling   \n",
              "2   “There are only two ways to live your life. On...      Albert Einstein   \n",
              "3   “The person, be it gentleman or lady, who has ...          Jane Austen   \n",
              "4   “Imperfection is beauty, madness is genius and...       Marilyn Monroe   \n",
              "5   “Try not to become a man of success. Rather be...      Albert Einstein   \n",
              "6   “It is better to be hated for what you are tha...           André Gide   \n",
              "7   “I have not failed. I've just found 10,000 way...     Thomas A. Edison   \n",
              "8   “A woman is like a tea bag; you never know how...    Eleanor Roosevelt   \n",
              "9   “A day without sunshine is like, you know, nig...         Steve Martin   \n",
              "10  “This life is what you make it. No matter what...       Marilyn Monroe   \n",
              "11  “It takes a great deal of bravery to stand up ...         J.K. Rowling   \n",
              "12  “If you can't explain it to a six year old, yo...      Albert Einstein   \n",
              "13  “You may not be her first, her last, or her on...           Bob Marley   \n",
              "14  “I like nonsense, it wakes up the brain cells....            Dr. Seuss   \n",
              "15  “I may not have gone where I intended to go, b...        Douglas Adams   \n",
              "16  “The opposite of love is not hate, it's indiff...          Elie Wiesel   \n",
              "17  “It is not a lack of love, but a lack of frien...  Friedrich Nietzsche   \n",
              "18  “Good friends, good books, and a sleepy consci...           Mark Twain   \n",
              "19  “Life is what happens to us while we are makin...       Allen Saunders   \n",
              "20  “I love you without knowing how, or when, or f...         Pablo Neruda   \n",
              "21  “For every minute you are angry you lose sixty...  Ralph Waldo Emerson   \n",
              "22  “If you judge people, you have no time to love...        Mother Teresa   \n",
              "23  “Anyone who thinks sitting in church can make ...     Garrison Keillor   \n",
              "24  “Beauty is in the eye of the beholder and it m...           Jim Henson   \n",
              "25  “Today you are You, that is truer than true. T...            Dr. Seuss   \n",
              "26  “If you want your children to be intelligent, ...      Albert Einstein   \n",
              "27  “It is impossible to live without failing at s...         J.K. Rowling   \n",
              "28  “Logic will get you from A to Z; imagination w...      Albert Einstein   \n",
              "29  “One good thing about music, when it hits you,...           Bob Marley   \n",
              "30  “The more that you read, the more things you w...            Dr. Seuss   \n",
              "31  “Of course it is happening inside your head, H...         J.K. Rowling   \n",
              "32  “The truth is, everyone is going to hurt you. ...           Bob Marley   \n",
              "33  “Not all of us can do great things. But we can...        Mother Teresa   \n",
              "34  “To the well-organized mind, death is but the ...         J.K. Rowling   \n",
              "35  “All you need is love. But a little chocolate ...    Charles M. Schulz   \n",
              "36                 “We read to know we're not alone.”    William Nicholson   \n",
              "37   “Any fool can know. The point is to understand.”      Albert Einstein   \n",
              "38  “I have always imagined that Paradise will be ...    Jorge Luis Borges   \n",
              "39  “It is never too late to be what you might hav...         George Eliot   \n",
              "\n",
              "                                           author_url  \\\n",
              "0   http://quotes.toscrape.com//author/Albert-Eins...   \n",
              "1      http://quotes.toscrape.com//author/J-K-Rowling   \n",
              "2   http://quotes.toscrape.com//author/Albert-Eins...   \n",
              "3      http://quotes.toscrape.com//author/Jane-Austen   \n",
              "4   http://quotes.toscrape.com//author/Marilyn-Monroe   \n",
              "5   http://quotes.toscrape.com//author/Albert-Eins...   \n",
              "6       http://quotes.toscrape.com//author/Andre-Gide   \n",
              "7   http://quotes.toscrape.com//author/Thomas-A-Ed...   \n",
              "8   http://quotes.toscrape.com//author/Eleanor-Roo...   \n",
              "9     http://quotes.toscrape.com//author/Steve-Martin   \n",
              "10  http://quotes.toscrape.com//author/Marilyn-Monroe   \n",
              "11     http://quotes.toscrape.com//author/J-K-Rowling   \n",
              "12  http://quotes.toscrape.com//author/Albert-Eins...   \n",
              "13      http://quotes.toscrape.com//author/Bob-Marley   \n",
              "14        http://quotes.toscrape.com//author/Dr-Seuss   \n",
              "15   http://quotes.toscrape.com//author/Douglas-Adams   \n",
              "16     http://quotes.toscrape.com//author/Elie-Wiesel   \n",
              "17  http://quotes.toscrape.com//author/Friedrich-N...   \n",
              "18      http://quotes.toscrape.com//author/Mark-Twain   \n",
              "19  http://quotes.toscrape.com//author/Allen-Saunders   \n",
              "20    http://quotes.toscrape.com//author/Pablo-Neruda   \n",
              "21  http://quotes.toscrape.com//author/Ralph-Waldo...   \n",
              "22   http://quotes.toscrape.com//author/Mother-Teresa   \n",
              "23  http://quotes.toscrape.com//author/Garrison-Ke...   \n",
              "24      http://quotes.toscrape.com//author/Jim-Henson   \n",
              "25        http://quotes.toscrape.com//author/Dr-Seuss   \n",
              "26  http://quotes.toscrape.com//author/Albert-Eins...   \n",
              "27     http://quotes.toscrape.com//author/J-K-Rowling   \n",
              "28  http://quotes.toscrape.com//author/Albert-Eins...   \n",
              "29      http://quotes.toscrape.com//author/Bob-Marley   \n",
              "30        http://quotes.toscrape.com//author/Dr-Seuss   \n",
              "31     http://quotes.toscrape.com//author/J-K-Rowling   \n",
              "32      http://quotes.toscrape.com//author/Bob-Marley   \n",
              "33   http://quotes.toscrape.com//author/Mother-Teresa   \n",
              "34     http://quotes.toscrape.com//author/J-K-Rowling   \n",
              "35  http://quotes.toscrape.com//author/Charles-M-S...   \n",
              "36  http://quotes.toscrape.com//author/William-Nic...   \n",
              "37  http://quotes.toscrape.com//author/Albert-Eins...   \n",
              "38  http://quotes.toscrape.com//author/Jorge-Luis-...   \n",
              "39    http://quotes.toscrape.com//author/George-Eliot   \n",
              "\n",
              "                                        tags_of_quote  \\\n",
              "0     [Tags:, change, deep-thoughts, thinking, world]   \n",
              "1                         [Tags:, abilities, choices]   \n",
              "2   [Tags:, inspirational, life, live, miracle, mi...   \n",
              "3           [Tags:, aliteracy, books, classic, humor]   \n",
              "4                 [Tags:, be-yourself, inspirational]   \n",
              "5                  [Tags:, adulthood, success, value]   \n",
              "6                                 [Tags:, life, love]   \n",
              "7   [Tags:, edison, failure, inspirational, paraph...   \n",
              "8            [Tags:, misattributed-eleanor-roosevelt]   \n",
              "9                     [Tags:, humor, obvious, simile]   \n",
              "10  [Tags:, friends, heartbreak, inspirational, li...   \n",
              "11                          [Tags:, courage, friends]   \n",
              "12                    [Tags:, simplicity, understand]   \n",
              "13                                      [Tags:, love]   \n",
              "14                                   [Tags:, fantasy]   \n",
              "15                          [Tags:, life, navigation]   \n",
              "16  [Tags:, activism, apathy, hate, indifference, ...   \n",
              "17  [Tags:, friendship, lack-of-friendship, lack-o...   \n",
              "18  [Tags:, books, contentment, friends, friendshi...   \n",
              "19  [Tags:, fate, life, misattributed-john-lennon,...   \n",
              "20                              [Tags:, love, poetry]   \n",
              "21                                 [Tags:, happiness]   \n",
              "22                      [Tags:, attributed-no-source]   \n",
              "23                           [Tags:, humor, religion]   \n",
              "24                                     [Tags:, humor]   \n",
              "25                    [Tags:, comedy, life, yourself]   \n",
              "26                     [Tags:, children, fairy-tales]   \n",
              "27                                                 []   \n",
              "28                               [Tags:, imagination]   \n",
              "29                                     [Tags:, music]   \n",
              "30                  [Tags:, learning, reading, seuss]   \n",
              "31                                [Tags:, dumbledore]   \n",
              "32                                [Tags:, friendship]   \n",
              "33  [Tags:, misattributed-to-mother-teresa, paraph...   \n",
              "34                      [Tags:, death, inspirational]   \n",
              "35                    [Tags:, chocolate, food, humor]   \n",
              "36       [Tags:, misattributed-to-c-s-lewis, reading]   \n",
              "37  [Tags:, knowledge, learning, understanding, wi...   \n",
              "38                            [Tags:, books, library]   \n",
              "39                             [Tags:, inspirational]   \n",
              "\n",
              "                                    tags_of_quote_url  \n",
              "0   [http://quotes.toscrape.com//tag/change/page/1...  \n",
              "1   [http://quotes.toscrape.com//tag/abilities/pag...  \n",
              "2   [http://quotes.toscrape.com//tag/inspirational...  \n",
              "3   [http://quotes.toscrape.com//tag/aliteracy/pag...  \n",
              "4   [http://quotes.toscrape.com//tag/be-yourself/p...  \n",
              "5   [http://quotes.toscrape.com//tag/adulthood/pag...  \n",
              "6   [http://quotes.toscrape.com//tag/life/page/1/,...  \n",
              "7   [http://quotes.toscrape.com//tag/edison/page/1...  \n",
              "8   [http://quotes.toscrape.com//tag/misattributed...  \n",
              "9   [http://quotes.toscrape.com//tag/humor/page/1/...  \n",
              "10  [http://quotes.toscrape.com//tag/friends/page/...  \n",
              "11  [http://quotes.toscrape.com//tag/courage/page/...  \n",
              "12  [http://quotes.toscrape.com//tag/simplicity/pa...  \n",
              "13     [http://quotes.toscrape.com//tag/love/page/1/]  \n",
              "14  [http://quotes.toscrape.com//tag/fantasy/page/1/]  \n",
              "15  [http://quotes.toscrape.com//tag/life/page/1/,...  \n",
              "16  [http://quotes.toscrape.com//tag/activism/page...  \n",
              "17  [http://quotes.toscrape.com//tag/friendship/pa...  \n",
              "18  [http://quotes.toscrape.com//tag/books/page/1/...  \n",
              "19  [http://quotes.toscrape.com//tag/fate/page/1/,...  \n",
              "20  [http://quotes.toscrape.com//tag/love/page/1/,...  \n",
              "21  [http://quotes.toscrape.com//tag/happiness/pag...  \n",
              "22  [http://quotes.toscrape.com//tag/attributed-no...  \n",
              "23  [http://quotes.toscrape.com//tag/humor/page/1/...  \n",
              "24    [http://quotes.toscrape.com//tag/humor/page/1/]  \n",
              "25  [http://quotes.toscrape.com//tag/comedy/page/1...  \n",
              "26  [http://quotes.toscrape.com//tag/children/page...  \n",
              "27                                                 []  \n",
              "28  [http://quotes.toscrape.com//tag/imagination/p...  \n",
              "29    [http://quotes.toscrape.com//tag/music/page/1/]  \n",
              "30  [http://quotes.toscrape.com//tag/learning/page...  \n",
              "31  [http://quotes.toscrape.com//tag/dumbledore/pa...  \n",
              "32  [http://quotes.toscrape.com//tag/friendship/pa...  \n",
              "33  [http://quotes.toscrape.com//tag/misattributed...  \n",
              "34  [http://quotes.toscrape.com//tag/death/page/1/...  \n",
              "35  [http://quotes.toscrape.com//tag/chocolate/pag...  \n",
              "36  [http://quotes.toscrape.com//tag/misattributed...  \n",
              "37  [http://quotes.toscrape.com//tag/knowledge/pag...  \n",
              "38  [http://quotes.toscrape.com//tag/books/page/1/...  \n",
              "39  [http://quotes.toscrape.com//tag/inspirational...  "
            ]
          },
          "execution_count": 26,
          "metadata": {},
          "output_type": "execute_result"
        }
      ],
      "source": [
        "import pandas as pd\n",
        "quote_df = pd.DataFrame(quote_dict)\n",
        "quote_df"
      ]
    },
    {
      "cell_type": "markdown",
      "metadata": {
        "id": "0JM_GyQ9XTiX"
      },
      "source": [
        "The csv file should look like:\n",
        "- [Sample result 'csv file'](https://drive.google.com/file/d/13AQ75u6YeFOV7zSsywqNPg3HE5WahAuB/view?usp=sharing)\n",
        "- ![](https://i.imgur.com/7VJQ44U.jpg) "
      ]
    },
    {
      "cell_type": "markdown",
      "metadata": {
        "id": "_jc_Of-kXTiX"
      },
      "source": [
        "## Summary\n",
        "* The Scraping was done using Python libraries such as Requests, and BeautifulSoup for extracting the data\n",
        "* Five fields were scrape from each quote i.e. 'quote_text', 'author_name', 'author_url', 'tags_of_quote', 'tags_of_quote_url'.\n",
        "* Scraping all 10 pages of the website will produce a csv file with 5 columns and 101 rows."
      ]
    },
    {
      "cell_type": "markdown",
      "metadata": {
        "id": "lKb4DFK9XTiX"
      },
      "source": [
        "## Future work\n",
        "- Organising the extracted  according to the most used tags.\n",
        "- Code optimization\n",
        "- Improving the documentation part of the project\n",
        "- Working on a dynamic website with a similar structure."
      ]
    },
    {
      "cell_type": "markdown",
      "metadata": {
        "id": "O8FvzCe9XTiX"
      },
      "source": [
        "## References\n",
        "- [Quotes.toScrape.com home page](http://quotes.toscrape.com)\n",
        "- [Quaotes.toScrape.com page 3](http://quotes.toscrape.com/page/3/)\n",
        "- [Let's Build a Python Web Scraping Project from Scratch - Hands-On Tutorial](https://www.youtube.com/watch?v=RKsLLG-bzEY)\n",
        "- [Web Scraping and REST APIs - Jovian](https://share.descript.com/view/ge5yco930I5)"
      ]
    },
    {
      "cell_type": "code",
      "execution_count": null,
      "metadata": {
        "id": "-SHLl7obXTiX"
      },
      "outputs": [],
      "source": [
        "!pip install jovian --upgrade --quiet\n",
        "import jovian"
      ]
    },
    {
      "cell_type": "code",
      "execution_count": null,
      "metadata": {
        "id": "q0vvGKjuXTiX",
        "outputId": "d0685726-68a4-4170-8bd5-21bcc12a4b92"
      },
      "outputs": [
        {
          "data": {
            "application/javascript": [
              "window.require && require([\"base/js/namespace\"],function(Jupyter){Jupyter.notebook.save_checkpoint()})"
            ],
            "text/plain": [
              "<IPython.core.display.Javascript object>"
            ]
          },
          "metadata": {},
          "output_type": "display_data"
        }
      ],
      "source": [
        "jovian.commit(project=\"Scrapping [Quotes to Scrape](http://quotes.toscrape.com) using Python and BeautifulSoup\")"
      ]
    },
    {
      "cell_type": "code",
      "execution_count": null,
      "metadata": {
        "id": "Z6JsV3jYXTiX"
      },
      "outputs": [],
      "source": []
    }
  ],
  "metadata": {
    "kernelspec": {
      "display_name": "Python 3 (ipykernel)",
      "language": "python",
      "name": "python3"
    },
    "language_info": {
      "codemirror_mode": {
        "name": "ipython",
        "version": 3
      },
      "file_extension": ".py",
      "mimetype": "text/x-python",
      "name": "python",
      "nbconvert_exporter": "python",
      "pygments_lexer": "ipython3",
      "version": "3.9.6"
    },
    "colab": {
      "provenance": []
    }
  },
  "nbformat": 4,
  "nbformat_minor": 0
}